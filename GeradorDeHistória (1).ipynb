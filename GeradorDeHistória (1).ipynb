{
  "nbformat": 4,
  "nbformat_minor": 0,
  "metadata": {
    "colab": {
      "name": "GeradorDeHistória.ipynb",
      "provenance": []
    },
    "kernelspec": {
      "name": "python3",
      "display_name": "Python 3"
    },
    "language_info": {
      "name": "python"
    }
  },
  "cells": [
    {
      "cell_type": "code",
      "metadata": {
        "id": "8JLx7GI6Q5UI"
      },
      "source": [
        "import random\n",
        "#Importar o módulo random,é um módulo integrado do python, portanto, não há necessidade de instalá-lo manualmente."
      ],
      "execution_count": 6,
      "outputs": []
    },
    {
      "cell_type": "markdown",
      "metadata": {
        "id": "GZYfqSI6X-id"
      },
      "source": [
        "# Variaveis\n",
        "Defina várias listas de frases. Aqui fiz oito mas podemos definir mais também, depende totalmente da sua escolha."
      ]
    },
    {
      "cell_type": "code",
      "metadata": {
        "id": "EkCw2-qjX7ps"
      },
      "source": [
        "inicioHistoria = [\"A muito tempo atrás\",\"No século 20\",\"50 anos atrás\"]\n",
        "\n",
        "sobreProtagonista = [\" tinha  um rei.\",\" vivia em uma fazenda.\",\" tinha uma pessoa comum.\",\" tinha um cara que se chamava Marcel.\"]\n",
        "\n",
        "tempo = [\" Em um dia normal\",\" Em uma noite de lua cheia\",\" Em um dia ensolarado\",\" Em um dia chuvoso\"]\n",
        "\n",
        "lugar = [\" em um jardim\",\" nas montanhas\",\" em uma vila\"]\n",
        "\n",
        "plot = [\" ele estava passando por\",\" estava indo a um picnic\",\" estava indo encontrar um\"]\n",
        "\n",
        "secundario = [\" ele viu um homem\",\" ele viu uma mulher\",\" ele viu uma jovem\",\" ele conheceu um senhor\"]\n",
        "\n",
        "idade = [\" na casa dos 20 anos\",\" que aparentava mais idade\",\" que parecia ser mais novo\"]\n",
        "\n",
        "estavaFazendo = [\" procurando algo.\",\" cavando no meio da estrada.\",\" atirando em uma pessoa.\"]\n"
      ],
      "execution_count": null,
      "outputs": []
    },
    {
      "cell_type": "markdown",
      "metadata": {
        "id": "lnfdqK0iXyql"
      },
      "source": [
        "Com a ajuda de random.choice (), selecione um item de cada lista e concatene os itens selecionados para gerar frases para a história."
      ]
    },
    {
      "cell_type": "code",
      "metadata": {
        "colab": {
          "base_uri": "https://localhost:8080/"
        },
        "id": "Ck9o7ZyPX2Zc",
        "outputId": "3a87d338-842b-4b72-ab03-1f35c5e226d1"
      },
      "source": [
        "print(random.choice(inicioHistoria)+random.choice(sobreProtagonista)+random.choice(tempo)+random.choice(plot)+random.choice(lugar)+random.choice(secundario)+random.choice(idade)+random.choice(estavaFazendo))\n"
      ],
      "execution_count": 7,
      "outputs": [
        {
          "output_type": "stream",
          "text": [
            "No século 20 tinha uma pessoa comum. Em um dia normal estava indo a um picnic em um jardim ele viu uma jovem na casa dos 20 anos atirando em uma pessoa.\n"
          ],
          "name": "stdout"
        }
      ]
    }
  ]
}